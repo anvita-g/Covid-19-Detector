{
 "cells": [
  {
   "cell_type": "code",
   "execution_count": null,
   "id": "70f4cc4d",
   "metadata": {},
   "outputs": [],
   "source": [
    "import pandas as pd\n",
    "import os\n",
    "import shutil"
   ]
  },
  {
   "cell_type": "code",
   "execution_count": null,
   "id": "fbbfe627",
   "metadata": {},
   "outputs": [],
   "source": [
    "FILE_PATH = \"covid-chestxray-dataset/covid-chestxray-dataset-master/metadata.csv\"\n",
    "IMAGES_PATH = \"covid-chestxray-dataset/covid-chestxray-dataset-master/images\""
   ]
  },
  {
   "cell_type": "code",
   "execution_count": null,
   "id": "dfe7fdc0",
   "metadata": {},
   "outputs": [],
   "source": [
    "df = pd.read_csv(FILE_PATH)\n",
    "print(df.shape)"
   ]
  },
  {
   "cell_type": "code",
   "execution_count": null,
   "id": "276d0138",
   "metadata": {},
   "outputs": [],
   "source": [
    "df.head()"
   ]
  },
  {
   "cell_type": "code",
   "execution_count": null,
   "id": "24c09aa1",
   "metadata": {},
   "outputs": [],
   "source": [
    "count = 0\n",
    "for (i,row) in df.iterrows():\n",
    "    if row[\"finding\"] == \"COVID-19\" and row[\"view\"] == \"PA\" and count<=113:\n",
    "        filename = row[\"filename\"]\n",
    "        if count<= 56:\n",
    "            image_path = os.path.join(IMAGES_PATH, filename)\n",
    "            image_copy_path = os.path.join(\"Dataset-covid/Train/Positive\", filename)\n",
    "            shutil.copy2(image_path, image_copy_path)\n",
    "            #print(\"img moved to train\", count)\n",
    "        else: \n",
    "            image_path = os.path.join(IMAGES_PATH, filename)\n",
    "            image_copy_path = os.path.join(\"Dataset-covid/Test/Positive\", filename)\n",
    "            shutil.copy2(image_path, image_copy_path)\n",
    "            #print(\"img moved to test\", count)\n",
    "        count += 1\n",
    "print(count)"
   ]
  },
  {
   "cell_type": "code",
   "execution_count": null,
   "id": "6660af99",
   "metadata": {},
   "outputs": [],
   "source": []
  },
  {
   "cell_type": "code",
   "execution_count": null,
   "id": "8f758ba5",
   "metadata": {},
   "outputs": [],
   "source": [
    "import random\n",
    "kaggle_path = \"archive (2)/chest_xray/train/NORMAL\"\n",
    "target_neg = \"Dataset-covid/Negative\""
   ]
  },
  {
   "cell_type": "code",
   "execution_count": null,
   "id": "344bdb7a",
   "metadata": {},
   "outputs": [],
   "source": [
    "target_directory = \"Dataset-covid/Train\"\n",
    "if os.path.exists(target_directory):\n",
    "    print(\"no\")"
   ]
  },
  {
   "cell_type": "code",
   "execution_count": null,
   "id": "7b9c85c7",
   "metadata": {},
   "outputs": [],
   "source": [
    "image_names = os.listdir(kaggle_path)\n",
    "random.shuffle(image_names)\n",
    "\n",
    "counter = 0\n",
    "for i in range(114):\n",
    "    image_name = image_names[i]\n",
    "    image_path = os.path.join(kaggle_path, image_name)\n",
    "    if counter <= 56:\n",
    "        target_path = os.path.join(\"Dataset-covid/Train/Negative\", image_name)\n",
    "        shutil.copy2(image_path, target_path)\n",
    "        #print(\"Image copied to train\", counter)\n",
    "    else:\n",
    "        target_path = os.path.join(\"Dataset-covid/Test/Negative\", image_name)\n",
    "        shutil.copy2(image_path, target_path)\n",
    "        #print(\"Image copied to test\", counter)\n",
    "    counter +=1"
   ]
  },
  {
   "cell_type": "code",
   "execution_count": null,
   "id": "338241b8",
   "metadata": {},
   "outputs": [],
   "source": []
  }
 ],
 "metadata": {
  "kernelspec": {
   "display_name": "Python 3 (ipykernel)",
   "language": "python",
   "name": "python3"
  },
  "language_info": {
   "codemirror_mode": {
    "name": "ipython",
    "version": 3
   },
   "file_extension": ".py",
   "mimetype": "text/x-python",
   "name": "python",
   "nbconvert_exporter": "python",
   "pygments_lexer": "ipython3",
   "version": "3.9.7"
  }
 },
 "nbformat": 4,
 "nbformat_minor": 5
}
