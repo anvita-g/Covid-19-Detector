{
 "cells": [
  {
   "cell_type": "code",
   "execution_count": 1,
   "id": "19735a6e",
   "metadata": {},
   "outputs": [],
   "source": [
    "import os\n",
    "train_path = \"Dataset-covid/Train\"\n",
    "test_path = \"Dataset-covid/Test\""
   ]
  },
  {
   "cell_type": "code",
   "execution_count": 2,
   "id": "017a0564",
   "metadata": {},
   "outputs": [
    {
     "name": "stderr",
     "output_type": "stream",
     "text": [
      "C:\\Users\\Anvita\\anaconda3\\lib\\site-packages\\scipy\\__init__.py:146: UserWarning: A NumPy version >=1.16.5 and <1.23.0 is required for this version of SciPy (detected version 1.24.3\n",
      "  warnings.warn(f\"A NumPy version >={np_minversion} and <{np_maxversion}\"\n"
     ]
    }
   ],
   "source": [
    "import numpy as np\n",
    "import matplotlib.pyplot as plt\n",
    "import keras\n",
    "from keras.layers import *\n",
    "from keras.models import *\n",
    "from keras.preprocessing import image"
   ]
  },
  {
   "cell_type": "code",
   "execution_count": 3,
   "id": "3a37da2d",
   "metadata": {},
   "outputs": [],
   "source": [
    "# CNN based model in keras tensorflow\n",
    "\n",
    "model = Sequential()\n",
    "model.add(Conv2D(32, kernel_size = (3,3), activation = \"relu\", input_shape = (224,224,3)))\n",
    "model.add(Conv2D(64,(3,3), activation = 'relu'))\n",
    "model.add(MaxPooling2D(pool_size = (2,2)))\n",
    "model.add(Dropout(0.25))\n",
    "\n",
    "model.add(Conv2D(64,(3,3), activation = 'relu'))\n",
    "model.add(MaxPooling2D(pool_size = (2,2)))\n",
    "model.add(Dropout(0.25))\n",
    "\n",
    "model.add(Conv2D(128,(3,3), activation = 'relu'))\n",
    "model.add(MaxPooling2D(pool_size = (2,2)))\n",
    "model.add(Dropout(0.25))\n",
    "\n",
    "model.add(Flatten())\n",
    "model.add(Dense(64,activation = \"relu\"))\n",
    "model.add(Dropout(0.5))\n",
    "model.add(Dense(1,activation = \"sigmoid\"))\n",
    "          \n",
    "model.compile(loss = keras.losses.binary_crossentropy, optimizer = \"adam\", metrics = ['accuracy'])\n",
    "\n"
   ]
  },
  {
   "cell_type": "code",
   "execution_count": 4,
   "id": "a1bb608b",
   "metadata": {
    "scrolled": true
   },
   "outputs": [
    {
     "name": "stdout",
     "output_type": "stream",
     "text": [
      "Model: \"sequential\"\n",
      "_________________________________________________________________\n",
      " Layer (type)                Output Shape              Param #   \n",
      "=================================================================\n",
      " conv2d (Conv2D)             (None, 222, 222, 32)      896       \n",
      "                                                                 \n",
      " conv2d_1 (Conv2D)           (None, 220, 220, 64)      18496     \n",
      "                                                                 \n",
      " max_pooling2d (MaxPooling2D  (None, 110, 110, 64)     0         \n",
      " )                                                               \n",
      "                                                                 \n",
      " dropout (Dropout)           (None, 110, 110, 64)      0         \n",
      "                                                                 \n",
      " conv2d_2 (Conv2D)           (None, 108, 108, 64)      36928     \n",
      "                                                                 \n",
      " max_pooling2d_1 (MaxPooling  (None, 54, 54, 64)       0         \n",
      " 2D)                                                             \n",
      "                                                                 \n",
      " dropout_1 (Dropout)         (None, 54, 54, 64)        0         \n",
      "                                                                 \n",
      " conv2d_3 (Conv2D)           (None, 52, 52, 128)       73856     \n",
      "                                                                 \n",
      " max_pooling2d_2 (MaxPooling  (None, 26, 26, 128)      0         \n",
      " 2D)                                                             \n",
      "                                                                 \n",
      " dropout_2 (Dropout)         (None, 26, 26, 128)       0         \n",
      "                                                                 \n",
      " flatten (Flatten)           (None, 86528)             0         \n",
      "                                                                 \n",
      " dense (Dense)               (None, 64)                5537856   \n",
      "                                                                 \n",
      " dropout_3 (Dropout)         (None, 64)                0         \n",
      "                                                                 \n",
      " dense_1 (Dense)             (None, 1)                 65        \n",
      "                                                                 \n",
      "=================================================================\n",
      "Total params: 5,668,097\n",
      "Trainable params: 5,668,097\n",
      "Non-trainable params: 0\n",
      "_________________________________________________________________\n"
     ]
    }
   ],
   "source": [
    "model.summary()"
   ]
  },
  {
   "cell_type": "code",
   "execution_count": 5,
   "id": "2cb062d0",
   "metadata": {},
   "outputs": [],
   "source": [
    "#training\n",
    "\n",
    "train_gen = image.ImageDataGenerator(\n",
    "    rescale = 1./255,\n",
    "    shear_range = 0.2,\n",
    "    zoom_range = 0.2,\n",
    "    horizontal_flip = True\n",
    ")\n",
    "\n",
    "test_dataset = image.ImageDataGenerator(\n",
    "    rescale = 1./255\n",
    ")"
   ]
  },
  {
   "cell_type": "code",
   "execution_count": 6,
   "id": "bce1f88e",
   "metadata": {},
   "outputs": [
    {
     "name": "stdout",
     "output_type": "stream",
     "text": [
      "Found 114 images belonging to 2 classes.\n"
     ]
    }
   ],
   "source": [
    "trainer = train_gen.flow_from_directory(\n",
    "    train_path,\n",
    "    target_size = (224,224),\n",
    "    batch_size = 32,\n",
    "    class_mode = \"binary\"\n",
    ")"
   ]
  },
  {
   "cell_type": "code",
   "execution_count": 7,
   "id": "a578a68f",
   "metadata": {},
   "outputs": [
    {
     "data": {
      "text/plain": [
       "{'Negative': 0, 'Positive': 1}"
      ]
     },
     "execution_count": 7,
     "metadata": {},
     "output_type": "execute_result"
    }
   ],
   "source": [
    "trainer.class_indices"
   ]
  },
  {
   "cell_type": "code",
   "execution_count": 8,
   "id": "4e555bd3",
   "metadata": {},
   "outputs": [
    {
     "name": "stdout",
     "output_type": "stream",
     "text": [
      "Found 114 images belonging to 2 classes.\n"
     ]
    }
   ],
   "source": [
    "test_gen = test_dataset.flow_from_directory(\n",
    "    test_path,\n",
    "    target_size = (224,224),\n",
    "    batch_size = 32,\n",
    "    class_mode = \"binary\"\n",
    ")"
   ]
  },
  {
   "cell_type": "code",
   "execution_count": 9,
   "id": "412ace77",
   "metadata": {},
   "outputs": [
    {
     "name": "stdout",
     "output_type": "stream",
     "text": [
      "Epoch 1/10\n",
      "4/4 [==============================] - 21s 5s/step - loss: 1.6783 - accuracy: 0.5439 - val_loss: 0.6750 - val_accuracy: 0.5938\n",
      "Epoch 2/10\n",
      "4/4 [==============================] - 17s 4s/step - loss: 0.6230 - accuracy: 0.6842 - val_loss: 0.6779 - val_accuracy: 0.5312\n",
      "Epoch 3/10\n",
      "4/4 [==============================] - 17s 5s/step - loss: 0.6590 - accuracy: 0.6140 - val_loss: 0.6524 - val_accuracy: 0.5469\n",
      "Epoch 4/10\n",
      "4/4 [==============================] - 16s 4s/step - loss: 0.5693 - accuracy: 0.7018 - val_loss: 0.5496 - val_accuracy: 0.8594\n",
      "Epoch 5/10\n",
      "4/4 [==============================] - 17s 4s/step - loss: 0.6150 - accuracy: 0.6491 - val_loss: 0.5439 - val_accuracy: 0.8906\n",
      "Epoch 6/10\n",
      "4/4 [==============================] - 17s 4s/step - loss: 0.4668 - accuracy: 0.8158 - val_loss: 0.4471 - val_accuracy: 0.9375\n",
      "Epoch 7/10\n",
      "4/4 [==============================] - 18s 4s/step - loss: 0.3389 - accuracy: 0.8772 - val_loss: 0.3089 - val_accuracy: 0.9375\n",
      "Epoch 8/10\n",
      "4/4 [==============================] - 17s 5s/step - loss: 0.3363 - accuracy: 0.8421 - val_loss: 0.2893 - val_accuracy: 0.9688\n",
      "Epoch 9/10\n",
      "4/4 [==============================] - 17s 4s/step - loss: 0.3331 - accuracy: 0.8421 - val_loss: 0.4199 - val_accuracy: 0.9688\n",
      "Epoch 10/10\n",
      "4/4 [==============================] - 16s 4s/step - loss: 0.2553 - accuracy: 0.9123 - val_loss: 0.1908 - val_accuracy: 0.9844\n"
     ]
    }
   ],
   "source": [
    "hist = model.fit(\n",
    "    x=trainer,\n",
    "    steps_per_epoch=4,\n",
    "    epochs=10,\n",
    "    validation_data=test_gen,\n",
    "    validation_steps=2\n",
    ")\n"
   ]
  }
 ],
 "metadata": {
  "kernelspec": {
   "display_name": "Python 3 (ipykernel)",
   "language": "python",
   "name": "python3"
  },
  "language_info": {
   "codemirror_mode": {
    "name": "ipython",
    "version": 3
   },
   "file_extension": ".py",
   "mimetype": "text/x-python",
   "name": "python",
   "nbconvert_exporter": "python",
   "pygments_lexer": "ipython3",
   "version": "3.9.7"
  }
 },
 "nbformat": 4,
 "nbformat_minor": 5
}
